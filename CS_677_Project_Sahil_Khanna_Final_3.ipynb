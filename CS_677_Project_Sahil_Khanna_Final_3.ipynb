{
 "cells": [
  {
   "cell_type": "code",
   "execution_count": 1,
   "id": "242c9733",
   "metadata": {},
   "outputs": [],
   "source": [
    "import pandas as pd\n",
    "import numpy as np\n",
    "import matplotlib.pyplot as plt\n",
    "import seaborn as sns\n",
    "import warnings\n",
    "warnings.simplefilter('ignore')\n",
    "pd.options.mode.chained_assignment = None # to supress dataframe warning\n",
    "\n",
    "%matplotlib inline"
   ]
  },
  {
   "cell_type": "code",
   "execution_count": 2,
   "id": "74c8ce9d",
   "metadata": {},
   "outputs": [
    {
     "name": "stdout",
     "output_type": "stream",
     "text": [
      "<class 'pandas.core.frame.DataFrame'>\n",
      "RangeIndex: 7043 entries, 0 to 7042\n",
      "Data columns (total 32 columns):\n",
      " #   Column             Non-Null Count  Dtype  \n",
      "---  ------             --------------  -----  \n",
      " 0   CustomerID         7043 non-null   object \n",
      " 1   Count              7043 non-null   int64  \n",
      " 2   Country            7043 non-null   object \n",
      " 3   State              7043 non-null   object \n",
      " 4   City               7043 non-null   object \n",
      " 5   Zip Code           7043 non-null   int64  \n",
      " 6   Lat Long           7043 non-null   object \n",
      " 7   Latitude           7043 non-null   float64\n",
      " 8   Longitude          7043 non-null   float64\n",
      " 9   Gender             7043 non-null   object \n",
      " 10  Senior Citizen     7043 non-null   object \n",
      " 11  Partner            7043 non-null   object \n",
      " 12  Dependents         7043 non-null   object \n",
      " 13  Tenure Months      7043 non-null   int64  \n",
      " 14  Phone Service      7043 non-null   object \n",
      " 15  Multiple Lines     7043 non-null   object \n",
      " 16  Internet Service   7043 non-null   object \n",
      " 17  Online Security    7043 non-null   object \n",
      " 18  Online Backup      7043 non-null   object \n",
      " 19  Device Protection  7043 non-null   object \n",
      " 20  Tech Support       7043 non-null   object \n",
      " 21  Streaming TV       7043 non-null   object \n",
      " 22  Streaming Movies   7043 non-null   object \n",
      " 23  Contract           7043 non-null   object \n",
      " 24  Paperless Billing  7043 non-null   object \n",
      " 25  Payment Method     7043 non-null   object \n",
      " 26  Monthly Charges    7043 non-null   float64\n",
      " 27  Total Charges      7043 non-null   object \n",
      " 28  Churn Label        7043 non-null   object \n",
      " 29  Churn Value        7043 non-null   int64  \n",
      " 30  Churn Score        7043 non-null   int64  \n",
      " 31  CLTV               7043 non-null   int64  \n",
      "dtypes: float64(3), int64(6), object(23)\n",
      "memory usage: 1.7+ MB\n"
     ]
    }
   ],
   "source": [
    "df = pd.read_csv(\"Telco_customer_churn_processed.csv\")\n",
    "df.info()"
   ]
  },
  {
   "cell_type": "markdown",
   "id": "8a0a7b7a",
   "metadata": {},
   "source": [
    "# Exploratory Data Analysis\n",
    "Let's begin some exploratory data analysis! We'll start by checking out missing data!"
   ]
  },
  {
   "cell_type": "code",
   "execution_count": 3,
   "id": "607ca02f",
   "metadata": {},
   "outputs": [
    {
     "name": "stdout",
     "output_type": "stream",
     "text": [
      "<class 'pandas.core.frame.DataFrame'>\n",
      "RangeIndex: 7043 entries, 0 to 7042\n",
      "Data columns (total 25 columns):\n",
      " #   Column             Non-Null Count  Dtype  \n",
      "---  ------             --------------  -----  \n",
      " 0   City               7043 non-null   object \n",
      " 1   Zip Code           7043 non-null   int64  \n",
      " 2   Latitude           7043 non-null   float64\n",
      " 3   Longitude          7043 non-null   float64\n",
      " 4   Gender             7043 non-null   object \n",
      " 5   Senior Citizen     7043 non-null   object \n",
      " 6   Partner            7043 non-null   object \n",
      " 7   Dependents         7043 non-null   object \n",
      " 8   Tenure Months      7043 non-null   int64  \n",
      " 9   Phone Service      7043 non-null   object \n",
      " 10  Multiple Lines     7043 non-null   object \n",
      " 11  Internet Service   7043 non-null   object \n",
      " 12  Online Security    7043 non-null   object \n",
      " 13  Online Backup      7043 non-null   object \n",
      " 14  Device Protection  7043 non-null   object \n",
      " 15  Tech Support       7043 non-null   object \n",
      " 16  Streaming TV       7043 non-null   object \n",
      " 17  Streaming Movies   7043 non-null   object \n",
      " 18  Contract           7043 non-null   object \n",
      " 19  Paperless Billing  7043 non-null   object \n",
      " 20  Payment Method     7043 non-null   object \n",
      " 21  Monthly Charges    7043 non-null   float64\n",
      " 22  Total Charges      7043 non-null   object \n",
      " 23  Churn Label        7043 non-null   object \n",
      " 24  Churn Value        7043 non-null   int64  \n",
      "dtypes: float64(3), int64(3), object(19)\n",
      "memory usage: 1.3+ MB\n"
     ]
    }
   ],
   "source": [
    "df.drop(['CustomerID', 'Count', 'Country', 'State','Lat Long',\n",
    "       'Churn Score', 'CLTV'],axis=1,inplace = True)\n",
    "df_copy = df.copy(deep=True)\n",
    "df.info()"
   ]
  },
  {
   "cell_type": "markdown",
   "id": "bfccd7d7",
   "metadata": {},
   "source": [
    "# Converting Categorical Features\n",
    "We'll need to convert categorical features to dummy variables using pandas! Otherwise our data analysis won't be able to directly take in those features as inputs."
   ]
  },
  {
   "cell_type": "code",
   "execution_count": 4,
   "id": "a2440f2a",
   "metadata": {},
   "outputs": [],
   "source": [
    "df[\"Senior Citizen\"] = np.where(df[\"Senior Citizen\"] == \"Yes\",1,0)\n",
    "df[\"Partner\"] = np.where(df[\"Partner\"] == \"Yes\",1,0)\n",
    "df[\"Dependents\"] = np.where(df[\"Dependents\"] == \"Yes\",1,0)\n",
    "df[\"Phone Service\"] = np.where(df[\"Phone Service\"] == \"Yes\",1,0)\n",
    "df[\"Multiple Lines\"] = np.where(df[\"Multiple Lines\"] == \"Yes\",1,0)\n",
    "df[\"Online Security\"] = np.where(df[\"Online Security\"] == \"Yes\",1,0)\n",
    "df[\"Online Backup\"] = np.where(df[\"Online Backup\"] == \"Yes\",1,0)\n",
    "df[\"Device Protection\"] = np.where(df[\"Device Protection\"] == \"Yes\",1,0)\n",
    "df[\"Tech Support\"] = np.where(df[\"Tech Support\"]  == \"Yes\",1,0)\n",
    "df[\"Streaming TV\"] = np.where(df[\"Streaming TV\"] == \"Yes\",1,0)\n",
    "df[\"Streaming Movies\"] = np.where(df[\"Streaming Movies\"] == \"Yes\",1,0)\n",
    "df[\"Paperless Billing\"] = np.where(df[\"Paperless Billing\"] == \"Yes\",1,0)\n",
    "df[\"Total Charges\"] = pd.to_numeric(df['Total Charges'],errors='coerce')\n",
    "df[\"Internet Service\"] = np.where(df[\"Internet Service\"] == \"No\",0,1)"
   ]
  },
  {
   "cell_type": "code",
   "execution_count": 5,
   "id": "cab68c44",
   "metadata": {},
   "outputs": [
    {
     "name": "stdout",
     "output_type": "stream",
     "text": [
      "<class 'pandas.core.frame.DataFrame'>\n",
      "RangeIndex: 7043 entries, 0 to 7042\n",
      "Data columns (total 26 columns):\n",
      " #   Column             Non-Null Count  Dtype  \n",
      "---  ------             --------------  -----  \n",
      " 0   City               7043 non-null   object \n",
      " 1   Zip Code           7043 non-null   int64  \n",
      " 2   Latitude           7043 non-null   float64\n",
      " 3   Longitude          7043 non-null   float64\n",
      " 4   Gender             7043 non-null   object \n",
      " 5   Senior Citizen     7043 non-null   int64  \n",
      " 6   Partner            7043 non-null   int64  \n",
      " 7   Dependents         7043 non-null   int64  \n",
      " 8   Tenure Months      7043 non-null   int64  \n",
      " 9   Phone Service      7043 non-null   int64  \n",
      " 10  Multiple Lines     7043 non-null   int64  \n",
      " 11  Internet Service   7043 non-null   int64  \n",
      " 12  Online Security    7043 non-null   int64  \n",
      " 13  Online Backup      7043 non-null   int64  \n",
      " 14  Device Protection  7043 non-null   int64  \n",
      " 15  Tech Support       7043 non-null   int64  \n",
      " 16  Streaming TV       7043 non-null   int64  \n",
      " 17  Streaming Movies   7043 non-null   int64  \n",
      " 18  Paperless Billing  7043 non-null   int64  \n",
      " 19  Monthly Charges    7043 non-null   float64\n",
      " 20  Total Charges      7032 non-null   float64\n",
      " 21  Churn Label        7043 non-null   object \n",
      " 22  Churn Value        7043 non-null   int64  \n",
      " 23  Male               7043 non-null   uint8  \n",
      " 24  One year           7043 non-null   uint8  \n",
      " 25  Two year           7043 non-null   uint8  \n",
      "dtypes: float64(4), int64(16), object(3), uint8(3)\n",
      "memory usage: 1.3+ MB\n"
     ]
    }
   ],
   "source": [
    "Gender = pd.get_dummies(df['Gender'],drop_first=True)\n",
    "Contract = pd.get_dummies(df['Contract'],drop_first=True)\n",
    "df.drop(['Contract','Payment Method'],axis=1,inplace=True)\n",
    "df = pd.concat([df,Gender,Contract],axis=1)\n",
    "df.info()"
   ]
  },
  {
   "cell_type": "markdown",
   "id": "949c69dc",
   "metadata": {},
   "source": [
    "# Missing Data\n",
    "We can use seaborn to create a simple heatmap to see where we are missing data!"
   ]
  },
  {
   "cell_type": "code",
   "execution_count": 6,
   "id": "8eff7bfb",
   "metadata": {},
   "outputs": [],
   "source": [
    "df.dropna(inplace=True)"
   ]
  },
  {
   "cell_type": "code",
   "execution_count": 7,
   "id": "5c9531ac",
   "metadata": {},
   "outputs": [
    {
     "data": {
      "text/plain": [
       "Index(['Zip Code', 'Latitude', 'Longitude', 'Senior Citizen', 'Partner',\n",
       "       'Dependents', 'Tenure Months', 'Phone Service', 'Multiple Lines',\n",
       "       'Internet Service', 'Online Security', 'Online Backup',\n",
       "       'Device Protection', 'Tech Support', 'Streaming TV', 'Streaming Movies',\n",
       "       'Paperless Billing', 'Monthly Charges', 'Total Charges', 'Churn Label',\n",
       "       'Churn Value', 'Male', 'One year', 'Two year'],\n",
       "      dtype='object')"
      ]
     },
     "execution_count": 7,
     "metadata": {},
     "output_type": "execute_result"
    }
   ],
   "source": [
    "df.drop(['City','Gender'],axis=1,inplace=True)\n",
    "df.columns"
   ]
  },
  {
   "cell_type": "markdown",
   "id": "553cf1a2",
   "metadata": {},
   "source": [
    "# Spliting dataset into Train and Test"
   ]
  },
  {
   "cell_type": "code",
   "execution_count": 8,
   "id": "3a31964d",
   "metadata": {},
   "outputs": [],
   "source": [
    "from sklearn.model_selection import train_test_split\n",
    "\n",
    "X = df[['Zip Code','Latitude', 'Longitude', 'Senior Citizen', 'Partner',\n",
    "       'Dependents', 'Tenure Months', 'Phone Service', 'Multiple Lines',\n",
    "       'Internet Service', 'Online Security', 'Online Backup',\n",
    "       'Device Protection', 'Tech Support', 'Streaming TV', 'Streaming Movies',\n",
    "       'Paperless Billing', 'Monthly Charges', 'Total Charges', 'Male', 'One year', 'Two year']]\n",
    "y = df['Churn Value']\n",
    "\n",
    "X_train, X_test, y_train, y_test = train_test_split(X, y, test_size=0.50, random_state=64)"
   ]
  },
  {
   "cell_type": "code",
   "execution_count": 9,
   "id": "c0d1d1f4",
   "metadata": {},
   "outputs": [],
   "source": [
    "from sklearn.preprocessing import StandardScaler\n",
    "\n",
    "scaler = StandardScaler()\n",
    "scaler.fit(X_train)\n",
    "X_train_scaled = scaler.transform(X_train)\n",
    "X_test_scaled = scaler.transform(X_test)"
   ]
  },
  {
   "cell_type": "code",
   "execution_count": 10,
   "id": "0869580e",
   "metadata": {},
   "outputs": [],
   "source": [
    "from sklearn.metrics import classification_report,confusion_matrix\n",
    "\n",
    "def metrics(y_test, predictions):\n",
    "    \n",
    "    print(classification_report(y_test,predictions))\n",
    "    print(\"####### Confusion Matrix\\n\",confusion_matrix(y_test,predictions))\n",
    "    \n",
    "    TN = confusion_matrix(y_test,predictions)[0][0]\n",
    "    FP = confusion_matrix(y_test,predictions)[0][1]\n",
    "    FN = confusion_matrix(y_test,predictions)[1][0]\n",
    "    TP = confusion_matrix(y_test,predictions)[1][1]\n",
    "    \n",
    "    TPR = round(TP/(TP + FN),3)\n",
    "    TNR = round(TN/(TN + FP),3)\n",
    "    Accuracy = round((TN+TP)/ (len(y_test)),4)\n",
    "    \n",
    "    from sklearn import metrics\n",
    "    print('\\nMAE:', round(metrics.mean_absolute_error(y_test, predictions),4))\n",
    "    print('MSE:', round(metrics.mean_squared_error(y_test, predictions),4))\n",
    "    print('RMSE:', round(np.sqrt(metrics.mean_squared_error(y_test, predictions)),4))\n",
    "\n",
    "    return TPR, TNR, Accuracy"
   ]
  },
  {
   "cell_type": "code",
   "execution_count": 11,
   "id": "33eefe87",
   "metadata": {},
   "outputs": [],
   "source": [
    "def cross_validate(e, X_train,  y_train):\n",
    "    from sklearn.model_selection import cross_val_score\n",
    "    accuracies = cross_val_score(estimator = e, X = X_train, y = y_train, cv = 10)\n",
    "    print(\"\\nStandard Deviation: {:.2f} %\".format(accuracies.std()*100))\n",
    "    \n",
    "    return accuracies.mean()*100"
   ]
  },
  {
   "cell_type": "markdown",
   "id": "38ef69ce",
   "metadata": {},
   "source": [
    "# Classification methods"
   ]
  },
  {
   "cell_type": "code",
   "execution_count": 12,
   "id": "4899ec37",
   "metadata": {},
   "outputs": [
    {
     "name": "stdout",
     "output_type": "stream",
     "text": [
      "\n",
      "############################## LogisticRegression ##############################\n",
      "\n",
      "              precision    recall  f1-score   support\n",
      "\n",
      "           0       0.80      0.92      0.86      2532\n",
      "           1       0.67      0.43      0.52       984\n",
      "\n",
      "    accuracy                           0.78      3516\n",
      "   macro avg       0.73      0.67      0.69      3516\n",
      "weighted avg       0.77      0.78      0.76      3516\n",
      "\n",
      "####### Confusion Matrix\n",
      " [[2321  211]\n",
      " [ 565  419]]\n",
      "\n",
      "MAE: 0.2207\n",
      "MSE: 0.2207\n",
      "RMSE: 0.4698\n",
      "\n",
      "Standard Deviation: 1.55 %\n",
      "\n",
      "TPR = 0.426 \n",
      "TNR = 0.917 \n",
      "Accuracy = 77.93%\n",
      "\n",
      "Average Accuracy using 10-fold Cross validation = 79.69%\n"
     ]
    }
   ],
   "source": [
    "############################## LogisticRegression ##############################\n",
    "from sklearn.linear_model import LogisticRegression\n",
    "\n",
    "def log_reg(X_train, y_train, X_test, y_test):\n",
    "    print(\"\\n############################## LogisticRegression ##############################\\n\")\n",
    "    \n",
    "    logmodel = LogisticRegression()\n",
    "    logmodel.fit(X_train,y_train)\n",
    "    lg_predict = logmodel.predict(X_test)\n",
    "    TPR, TNR, log_accuracy = metrics(y_test, lg_predict)\n",
    "    log_avg_accuracy = cross_validate(logmodel, X_train,  y_train)\n",
    "\n",
    "    print(f\"\\nTPR = {TPR} \\nTNR = {TNR} \\nAccuracy = {round(log_accuracy*100,2)}%\")\n",
    "    print(\"\\nAverage Accuracy using 10-fold Cross validation = {:.2f}%\".format(log_avg_accuracy))\n",
    "\n",
    "    return log_accuracy, log_avg_accuracy\n",
    "\n",
    "log_accuracy, log_avg_accuracy = log_reg(X_train, y_train, X_test, y_test)"
   ]
  },
  {
   "cell_type": "code",
   "execution_count": 13,
   "id": "a27fccbd",
   "metadata": {},
   "outputs": [
    {
     "name": "stdout",
     "output_type": "stream",
     "text": [
      "\n",
      "############################## DecisionTree ##############################\n",
      "\n",
      "              precision    recall  f1-score   support\n",
      "\n",
      "           0       0.81      0.83      0.82      2532\n",
      "           1       0.54      0.50      0.52       984\n",
      "\n",
      "    accuracy                           0.74      3516\n",
      "   macro avg       0.67      0.67      0.67      3516\n",
      "weighted avg       0.73      0.74      0.74      3516\n",
      "\n",
      "####### Confusion Matrix\n",
      " [[2109  423]\n",
      " [ 493  491]]\n",
      "\n",
      "MAE: 0.2605\n",
      "MSE: 0.2605\n",
      "RMSE: 0.5104\n",
      "\n",
      "Standard Deviation: 1.75 %\n",
      "\n",
      "TPR = 0.499 \n",
      "TNR = 0.833 \n",
      "Accuracy = 73.95%\n",
      "\n",
      "Average Accuracy using 10-fold Cross validation = 74.18%\n"
     ]
    }
   ],
   "source": [
    "############################## DecisionTree ##############################\n",
    "from sklearn.tree import DecisionTreeClassifier\n",
    "from sklearn import tree\n",
    "\n",
    "def d_tree(X_train, y_train, X_test, y_test):\n",
    "    print(\"\\n############################## DecisionTree ##############################\\n\")\n",
    "\n",
    "    dtree = DecisionTreeClassifier(criterion =\"entropy\",random_state=64)\n",
    "    dtree.fit(X_train,y_train)\n",
    "    d_predict = dtree.predict(X_test)\n",
    "\n",
    "    TPR, TNR, dtree_accuracy = metrics(y_test, d_predict)\n",
    "    dtree_avg_accuracy = cross_validate(dtree, X_train,  y_train)\n",
    "\n",
    "    print(f\"\\nTPR = {TPR} \\nTNR = {TNR} \\nAccuracy = {round(dtree_accuracy*100,2)}%\")\n",
    "    print(\"\\nAverage Accuracy using 10-fold Cross validation = {:.2f}%\".format(dtree_avg_accuracy))\n",
    "    \n",
    "    return dtree, dtree_accuracy, dtree_avg_accuracy\n",
    "\n",
    "dtree, dtree_accuracy, dtree_avg_accuracy = d_tree(X_train, y_train, X_test, y_test)"
   ]
  },
  {
   "cell_type": "code",
   "execution_count": 14,
   "id": "ea62bbf9",
   "metadata": {},
   "outputs": [
    {
     "name": "stdout",
     "output_type": "stream",
     "text": [
      "\n",
      "Best Combination = [19, 8]\n",
      "\n",
      "\n",
      "############################## RandomForest ##############################\n",
      "              precision    recall  f1-score   support\n",
      "\n",
      "           0       0.82      0.93      0.87      2532\n",
      "           1       0.72      0.47      0.57       984\n",
      "\n",
      "    accuracy                           0.80      3516\n",
      "   macro avg       0.77      0.70      0.72      3516\n",
      "weighted avg       0.79      0.80      0.79      3516\n",
      "\n",
      "####### Confusion Matrix\n",
      " [[2357  175]\n",
      " [ 524  460]]\n",
      "\n",
      "MAE: 0.1988\n",
      "MSE: 0.1988\n",
      "RMSE: 0.4459\n",
      "\n",
      "Standard Deviation: 1.16 %\n",
      "\n",
      "TPR = 0.467 \n",
      "TNR = 0.931 \n",
      "Accuracy = 80.12%\n",
      "\n",
      "Average Accuracy using 10-fold Cross validation = 80.40%\n"
     ]
    }
   ],
   "source": [
    "############################## RandomForest ##############################\n",
    "from sklearn.ensemble import RandomForestClassifier\n",
    "\n",
    "error_rate = []\n",
    "best_combo = []\n",
    "for i in range(1,21):\n",
    "    for j in range(1,11):\n",
    "        rfc_test = RandomForestClassifier(n_estimators=i,criterion='entropy',max_depth=j,random_state=64)\n",
    "        rfc_test.fit(X_train, y_train)\n",
    "        rfct_pred = rfc_test.predict(X_test) \n",
    "        error_rate.append((np.mean(rfct_pred != y_test)))\n",
    "        best_combo.append([i,j])\n",
    "        \n",
    "print(\"\\nBest Combination =\",best_combo[error_rate.index(min(error_rate))] )\n",
    "print(\"\")\n",
    "n = best_combo[error_rate.index(min(error_rate))][0]\n",
    "d = best_combo[error_rate.index(min(error_rate))][1]\n",
    "\n",
    "def rand_forest(X_train, y_train, X_test, y_test):\n",
    "    \n",
    "    print(\"\\n############################## RandomForest ##############################\")\n",
    "    rfc = RandomForestClassifier(n_estimators=n,criterion='entropy',max_depth=d,random_state=64)\n",
    "    rfc.fit(X_train, y_train)\n",
    "    rfc_pred = rfc.predict(X_test)\n",
    "\n",
    "    TPR, TNR, rf_accuracy = metrics(y_test, rfc_pred)\n",
    "    rf_avg_accuracy = cross_validate(rfc, X_train,  y_train)\n",
    "\n",
    "    print(f\"\\nTPR = {TPR} \\nTNR = {TNR} \\nAccuracy = {round(rf_accuracy*100,2)}%\")\n",
    "    print(\"\\nAverage Accuracy using 10-fold Cross validation = {:.2f}%\".format(rf_avg_accuracy))\n",
    "    \n",
    "    return rfc, rf_accuracy, rf_avg_accuracy\n",
    "\n",
    "rfc, rf_accuracy, rf_avg_accuracy = rand_forest(X_train, y_train, X_test, y_test)"
   ]
  },
  {
   "cell_type": "code",
   "execution_count": 15,
   "id": "a963fc58",
   "metadata": {},
   "outputs": [
    {
     "data": {
      "image/png": "[encoded data removed]",
      "text/plain": [
       "<Figure size 792x504 with 1 Axes>"
      ]
     },
     "metadata": {
      "needs_background": "light"
     },
     "output_type": "display_data"
    }
   ],
   "source": [
    "############################## KNeighbors ##############################\n",
    "error_rate = []\n",
    "from sklearn.neighbors import KNeighborsClassifier\n",
    "# Will take some time\n",
    "for i in range(1,51):\n",
    "    \n",
    "    knn = KNeighborsClassifier(n_neighbors=i)\n",
    "    knn.fit(X_train_scaled,y_train)\n",
    "    pred_i = knn.predict(X_test_scaled)\n",
    "    error_rate.append(np.mean(pred_i != y_test))\n",
    "    \n",
    "plt.figure(figsize=(11,7))\n",
    "plt.plot(range(1,51),error_rate,color='blue', linestyle='dashed', marker='o',\n",
    "         markerfacecolor='red', markersize=10)\n",
    "plt.title('Error Rate vs. K Value')\n",
    "plt.xlabel('K')\n",
    "plt.ylabel('Error Rate')\n",
    "plt.show()"
   ]
  },
  {
   "cell_type": "code",
   "execution_count": 16,
   "id": "88ce2ea4",
   "metadata": {},
   "outputs": [
    {
     "name": "stdout",
     "output_type": "stream",
     "text": [
      "\n",
      "############################## KNeighbors ##############################\n",
      "\n",
      "Best K is 44\n",
      "Worst K is 1\n",
      "              precision    recall  f1-score   support\n",
      "\n",
      "           0       0.82      0.90      0.86      2532\n",
      "           1       0.65      0.47      0.55       984\n",
      "\n",
      "    accuracy                           0.78      3516\n",
      "   macro avg       0.73      0.69      0.70      3516\n",
      "weighted avg       0.77      0.78      0.77      3516\n",
      "\n",
      "####### Confusion Matrix\n",
      " [[2283  249]\n",
      " [ 518  466]]\n",
      "\n",
      "MAE: 0.2181\n",
      "MSE: 0.2181\n",
      "RMSE: 0.4671\n",
      "\n",
      "Standard Deviation: 1.06 %\n",
      "\n",
      "TPR = 0.474 \n",
      "TNR = 0.902 \n",
      "Accuracy = 78.19%\n",
      "\n",
      "Average Accuracy using 10-fold Cross validation = 78.61%\n"
     ]
    }
   ],
   "source": [
    "print(\"\\n############################## KNeighbors ##############################\")\n",
    "best_k = error_rate.index((min(error_rate))) + 1\n",
    "worst_k = error_rate.index((max(error_rate))) + 1\n",
    "\n",
    "print(\"\\nBest K is\",best_k)\n",
    "print(\"Worst K is\",worst_k)\n",
    "\n",
    "def KNeighbors(best_k, X_train_scaled, y_train, X_test_scaled, y_test):\n",
    "    knn = KNeighborsClassifier(n_neighbors = best_k,)\n",
    "    knn.fit(X_train_scaled,y_train)\n",
    "    k_pred = knn.predict(X_test_scaled)\n",
    "\n",
    "    TPR, TNR, knn_accuracy = metrics(y_test, k_pred)\n",
    "    knn_avg_accuracy = cross_validate(knn, X_train_scaled,  y_train)\n",
    "\n",
    "    print(f\"\\nTPR = {TPR} \\nTNR = {TNR} \\nAccuracy = {round(knn_accuracy*100,2)}%\")\n",
    "    print(\"\\nAverage Accuracy using 10-fold Cross validation = {:.2f}%\".format(knn_avg_accuracy))\n",
    "    \n",
    "    return knn_accuracy, knn_avg_accuracy\n",
    "knn_accuracy, knn_avg_accuracy = KNeighbors(best_k, X_train_scaled, y_train, X_test_scaled, y_test)"
   ]
  },
  {
   "cell_type": "code",
   "execution_count": 17,
   "id": "207f7b3a",
   "metadata": {},
   "outputs": [
    {
     "name": "stdout",
     "output_type": "stream",
     "text": [
      "\n",
      "############################## GaussianNB ##############################\n",
      "\n",
      "              precision    recall  f1-score   support\n",
      "\n",
      "           0       0.89      0.76      0.82      2532\n",
      "           1       0.55      0.76      0.64       984\n",
      "\n",
      "    accuracy                           0.76      3516\n",
      "   macro avg       0.72      0.76      0.73      3516\n",
      "weighted avg       0.80      0.76      0.77      3516\n",
      "\n",
      "####### Confusion Matrix\n",
      " [[1929  603]\n",
      " [ 235  749]]\n",
      "\n",
      "MAE: 0.2383\n",
      "MSE: 0.2383\n",
      "RMSE: 0.4882\n",
      "\n",
      "Standard Deviation: 1.40 %\n",
      "\n",
      "TPR = 0.761 \n",
      "TNR = 0.762 \n",
      "Accuracy = 76.17%\n",
      "\n",
      "Average Accuracy using 10-fold Cross validation = 75.65%\n"
     ]
    }
   ],
   "source": [
    "############################## GaussianNB ##############################\n",
    "from sklearn.naive_bayes import GaussianNB\n",
    "\n",
    "def Gaussian_NB(X_train, y_train, X_test, y_test):\n",
    "    print(\"\\n############################## GaussianNB ##############################\\n\")\n",
    "\n",
    "    nb = GaussianNB()\n",
    "    nb.fit(X_train, y_train)\n",
    "    nb_pred = nb.predict(X_test)\n",
    "\n",
    "    TPR, TNR, nb_accuracy = metrics(y_test, nb_pred)\n",
    "    nb_avg_accuracy = cross_validate(nb, X_train,  y_train)\n",
    "\n",
    "    print(f\"\\nTPR = {TPR} \\nTNR = {TNR} \\nAccuracy = {round(nb_accuracy*100,2)}%\")\n",
    "    print(\"\\nAverage Accuracy using 10-fold Cross validation = {:.2f}%\".format(nb_avg_accuracy))\n",
    "    \n",
    "    return nb_accuracy, nb_avg_accuracy\n",
    "\n",
    "nb_accuracy, nb_avg_accuracy = Gaussian_NB(X_train, y_train, X_test, y_test)"
   ]
  },
  {
   "cell_type": "markdown",
   "id": "c02984ea",
   "metadata": {},
   "source": [
    "# Model Improvement"
   ]
  },
  {
   "cell_type": "code",
   "execution_count": 18,
   "id": "08aa79bd",
   "metadata": {},
   "outputs": [
    {
     "name": "stdout",
     "output_type": "stream",
     "text": [
      "\n",
      "########################## DecisionTree Using Max Depth of Best RandomForest ##########################\n",
      "\n",
      "              precision    recall  f1-score   support\n",
      "\n",
      "           0       0.86      0.84      0.85      2532\n",
      "           1       0.61      0.65      0.63       984\n",
      "\n",
      "    accuracy                           0.79      3516\n",
      "   macro avg       0.74      0.75      0.74      3516\n",
      "weighted avg       0.79      0.79      0.79      3516\n",
      "\n",
      "####### Confusion Matrix\n",
      " [[2129  403]\n",
      " [ 342  642]]\n",
      "\n",
      "MAE: 0.2119\n",
      "MSE: 0.2119\n",
      "RMSE: 0.4603\n",
      "\n",
      "Standard Deviation: 1.19 %\n",
      "\n",
      "TPR = 0.652 \n",
      "TNR = 0.841 \n",
      "Accuracy = 78.81%\n",
      "\n",
      "Average Accuracy using 10-fold Cross validation = 78.61%\n",
      "\n",
      "Accuracy changed by 4.86pp\n"
     ]
    }
   ],
   "source": [
    "############################## DecisionTree Using Max Depth of Best RandomForest ##############################\n",
    "def d_tree_m(d, X_train, y_train, X_test, y_test):\n",
    "    print(\"\\n########################## DecisionTree Using Max Depth of Best RandomForest ##########################\\n\")\n",
    "\n",
    "    dtree_m = DecisionTreeClassifier(ccp_alpha=0.002, criterion =\"entropy\",max_depth=d,)\n",
    "    dtree_m.fit(X_train, y_train)\n",
    "    d_predict = dtree_m.predict(X_test)\n",
    "\n",
    "    TPR, TNR, accuracy = metrics(y_test, d_predict)\n",
    "    avg_accuracy = cross_validate(dtree_m, X_train,  y_train)\n",
    "\n",
    "    print(f\"\\nTPR = {TPR} \\nTNR = {TNR} \\nAccuracy = {round(accuracy*100,2)}%\")\n",
    "    print(\"\\nAverage Accuracy using 10-fold Cross validation = {:.2f}%\".format(avg_accuracy))\n",
    "    print(f\"\\nAccuracy changed by {round((accuracy - dtree_accuracy)*100,3)}pp\")\n",
    "    \n",
    "    return accuracy, avg_accuracy\n",
    "\n",
    "accuracy_m, avg_accuracy_m = d_tree_m(d, X_train, y_train, X_test, y_test)"
   ]
  },
  {
   "cell_type": "markdown",
   "id": "3a019d9d",
   "metadata": {},
   "source": [
    "# Using AdaBoost"
   ]
  },
  {
   "cell_type": "code",
   "execution_count": 19,
   "id": "f3798c3b",
   "metadata": {},
   "outputs": [],
   "source": [
    "def ada_boost(d, X_train, y_train,X_test, y_test):\n",
    "    error_rate = []\n",
    "    from sklearn.ensemble import AdaBoostClassifier\n",
    "    \n",
    "    for i in range(1,16):\n",
    "        for j in (0.5,1):\n",
    "            ada = AdaBoostClassifier(n_estimators =i , base_estimator = d , learning_rate = j, random_state=64)  \n",
    "            ada.fit(X_train, y_train)\n",
    "            ada_predict = ada.predict(X_test)\n",
    "            error_rate.append(np.mean(ada_predict != y_test ))\n",
    "            \n",
    "    return error_rate, ada_predict"
   ]
  },
  {
   "cell_type": "code",
   "execution_count": 20,
   "id": "b33dc72e",
   "metadata": {},
   "outputs": [],
   "source": [
    "def create_dataframe(error_rate):\n",
    "    \n",
    "    df_temp = pd.DataFrame()\n",
    "    df_temp[\"N\"] = list(range(1,31))\n",
    "    df_temp[\"Error_Rate\"] = error_rate\n",
    "    df_temp[\"Learning_Rate\"] = np.where(df_temp.N <=15, 0.5,1)\n",
    "    df_temp[\"N\"] = list(range(1,16)) * 2\n",
    "    \n",
    "    return df_temp"
   ]
  },
  {
   "cell_type": "code",
   "execution_count": 21,
   "id": "eaec2665",
   "metadata": {},
   "outputs": [],
   "source": [
    "from sklearn.ensemble import AdaBoostClassifier\n",
    "\n",
    "def ada_main(e, X_train, y_train,X_test, y_test):\n",
    "    error_rate, ada_predict = ada_boost(e , X_train, y_train,X_test, y_test)\n",
    "\n",
    "    df_temp = create_dataframe(error_rate)\n",
    "\n",
    "    best_lr =  df_temp.nsmallest(1,\"Error_Rate\").iloc[0][2]\n",
    "    best_n = df_temp.nsmallest(1,\"Error_Rate\").iloc[0][0]\n",
    "\n",
    "    ar_accuracy = ((1 - df_temp.nsmallest(1,\"Error_Rate\").iloc[0][1]))\n",
    "    print(f\"\\nBest combination for learning rate λ and N is [{best_lr }, {best_n}] with Accuracy = {round(ar_accuracy*100,2)}%\")\n",
    "    print(f\"\\nAccuracy changed by {round((ar_accuracy - rf_accuracy)*100,2)}pp\")\n",
    "\n",
    "    ada = AdaBoostClassifier(n_estimators = int(best_n) , base_estimator = e , learning_rate = best_lr, random_state=64)  \n",
    "    ada.fit(X_train, y_train)\n",
    "    ada_predict = ada.predict(X_test)\n",
    "    TPR, TNR, ada_accuracy = metrics(y_test, ada_predict)\n",
    "    print(f\"\\nTPR = {TPR} \\nTNR = {TNR}\")"
   ]
  },
  {
   "cell_type": "code",
   "execution_count": 22,
   "id": "eb95fb4c",
   "metadata": {},
   "outputs": [
    {
     "name": "stdout",
     "output_type": "stream",
     "text": [
      "\n",
      "######## AdaBoost with Best Performing Algorithm\n",
      "\n",
      "Best combination for learning rate λ and N is [0.5, 4.0] with Accuracy = 80.43%\n",
      "\n",
      "Accuracy changed by 0.31pp\n",
      "              precision    recall  f1-score   support\n",
      "\n",
      "           0       0.82      0.92      0.87      2532\n",
      "           1       0.72      0.49      0.59       984\n",
      "\n",
      "    accuracy                           0.80      3516\n",
      "   macro avg       0.77      0.71      0.73      3516\n",
      "weighted avg       0.80      0.80      0.79      3516\n",
      "\n",
      "####### Confusion Matrix\n",
      " [[2341  191]\n",
      " [ 497  487]]\n",
      "\n",
      "MAE: 0.1957\n",
      "MSE: 0.1957\n",
      "RMSE: 0.4424\n",
      "\n",
      "TPR = 0.495 \n",
      "TNR = 0.925\n"
     ]
    }
   ],
   "source": [
    "print(\"\\n######## AdaBoost with Best Performing Algorithm\")\n",
    "ada_main(rfc, X_train, y_train, X_test, y_test)"
   ]
  },
  {
   "cell_type": "code",
   "execution_count": 23,
   "id": "4b5a7906",
   "metadata": {},
   "outputs": [
    {
     "name": "stdout",
     "output_type": "stream",
     "text": [
      "\n",
      "######## AdaBoost with Worst Performing Algorithm\n",
      "\n",
      "Best combination for learning rate λ and N is [1.0, 15.0] with Accuracy = 79.44%\n",
      "\n",
      "Accuracy changed by -0.68pp\n",
      "              precision    recall  f1-score   support\n",
      "\n",
      "           0       0.83      0.90      0.86      2532\n",
      "           1       0.67      0.52      0.58       984\n",
      "\n",
      "    accuracy                           0.79      3516\n",
      "   macro avg       0.75      0.71      0.72      3516\n",
      "weighted avg       0.78      0.79      0.79      3516\n",
      "\n",
      "####### Confusion Matrix\n",
      " [[2284  248]\n",
      " [ 475  509]]\n",
      "\n",
      "MAE: 0.2056\n",
      "MSE: 0.2056\n",
      "RMSE: 0.4535\n",
      "\n",
      "TPR = 0.517 \n",
      "TNR = 0.902\n"
     ]
    }
   ],
   "source": [
    "print(\"\\n######## AdaBoost with Worst Performing Algorithm\")\n",
    "ada_main(None, X_train, y_train, X_test, y_test)"
   ]
  },
  {
   "cell_type": "code",
   "execution_count": 24,
   "id": "ff7a8daf",
   "metadata": {},
   "outputs": [
    {
     "name": "stdout",
     "output_type": "stream",
     "text": [
      "\n",
      "########################## GradientBoostingClassifier ##########################\n",
      "\n",
      "Accuracy using GradientBoosting 80.66%\n"
     ]
    }
   ],
   "source": [
    "############################## GradientBoostingClassifier ##############################\n",
    "print(\"\\n########################## GradientBoostingClassifier ##########################\\n\")\n",
    "def grad_boost(X_train, y_train,X_test, y_test):\n",
    "    error_rate = []\n",
    "    from sklearn.ensemble import GradientBoostingClassifier\n",
    "    \n",
    "    for i in range(1,51):\n",
    "        for j in np.linspace(0.1,1,10):\n",
    "            gb = GradientBoostingClassifier(n_estimators=i, learning_rate=j, random_state=64) \n",
    "            gb.fit(X_train, y_train)\n",
    "            gd_predict = gb.predict(X_test)\n",
    "            error_rate.append(np.mean(gd_predict != y_test ))\n",
    "            \n",
    "    return min(error_rate), gd_predict\n",
    "\n",
    "error_rate, gd_predict = grad_boost(X_train, y_train,X_test, y_test)\n",
    "print(f\"Accuracy using GradientBoosting {round((1 - error_rate) * 100, 2)}%\")"
   ]
  },
  {
   "cell_type": "markdown",
   "id": "b583d8c4",
   "metadata": {},
   "source": [
    "# Dimensionality Reduction\n",
    "### In this part we will cover the following Feature Extraction techniques:\n",
    "    1. Principal Component Analysis (PCA)\n",
    "    2. Linear Discriminant Analysis (LDA)\n",
    "    3. Quadratic Discriminant Analysis (QDA)"
   ]
  },
  {
   "cell_type": "code",
   "execution_count": 25,
   "id": "038914dd",
   "metadata": {},
   "outputs": [
    {
     "name": "stdout",
     "output_type": "stream",
     "text": [
      "\n",
      "############################## PrincipalComponentAnalysis ##############################\n",
      "\n",
      "\n",
      "Explained Variance Ratio: [0.22724583 0.12357541]\n",
      "Noise Variance: 0.714\n"
     ]
    }
   ],
   "source": [
    "############################## PrincipalComponentAnalysis ##############################\n",
    "print(\"\\n############################## PrincipalComponentAnalysis ##############################\\n\")\n",
    "\n",
    "from sklearn.decomposition import PCA\n",
    "pca = PCA(n_components = 2, random_state=64)\n",
    "X_train_pca = pca.fit_transform(X_train_scaled)\n",
    "X_test_pca = pca.transform(X_test_scaled)\n",
    "\n",
    "print(\"\\nExplained Variance Ratio:\",pca.explained_variance_ratio_)\n",
    "print(\"Noise Variance:\",round(pca.noise_variance_,3))"
   ]
  },
  {
   "cell_type": "code",
   "execution_count": 26,
   "id": "3532eed0",
   "metadata": {},
   "outputs": [
    {
     "name": "stdout",
     "output_type": "stream",
     "text": [
      "\n",
      "############################## RandomForest ##############################\n",
      "              precision    recall  f1-score   support\n",
      "\n",
      "           0       0.73      0.98      0.84      2532\n",
      "           1       0.52      0.06      0.11       984\n",
      "\n",
      "    accuracy                           0.72      3516\n",
      "   macro avg       0.63      0.52      0.47      3516\n",
      "weighted avg       0.67      0.72      0.63      3516\n",
      "\n",
      "####### Confusion Matrix\n",
      " [[2478   54]\n",
      " [ 925   59]]\n",
      "\n",
      "MAE: 0.2784\n",
      "MSE: 0.2784\n",
      "RMSE: 0.5277\n",
      "\n",
      "Standard Deviation: 0.56 %\n",
      "\n",
      "TPR = 0.06 \n",
      "TNR = 0.979 \n",
      "Accuracy = 72.16%\n",
      "\n",
      "Average Accuracy using 10-fold Cross validation = 74.37%\n",
      "\n",
      "Accuracy changed by -7.96pp\n",
      "Mean Accuracy changed by -6.0pp\n"
     ]
    }
   ],
   "source": [
    "rfc, accuracy, avg_accuracy = rand_forest(X_train_pca, y_train, X_test_pca, y_test)\n",
    "print(f\"\\nAccuracy changed by {round((accuracy - rf_accuracy)*100,3)}pp\")\n",
    "print(f\"Mean Accuracy changed by {round((avg_accuracy - rf_avg_accuracy),1)}pp\")"
   ]
  },
  {
   "cell_type": "code",
   "execution_count": 27,
   "id": "c01fdb7b",
   "metadata": {},
   "outputs": [
    {
     "name": "stdout",
     "output_type": "stream",
     "text": [
      "\n",
      "######## PCA-AdaBoost\n",
      "\n",
      "Best combination for learning rate λ and N is [0.5, 12.0] with Accuracy = 72.61%\n",
      "\n",
      "Accuracy changed by -7.51pp\n",
      "              precision    recall  f1-score   support\n",
      "\n",
      "           0       0.74      0.96      0.83      2532\n",
      "           1       0.52      0.12      0.20       984\n",
      "\n",
      "    accuracy                           0.72      3516\n",
      "   macro avg       0.63      0.54      0.52      3516\n",
      "weighted avg       0.68      0.72      0.66      3516\n",
      "\n",
      "####### Confusion Matrix\n",
      " [[2423  109]\n",
      " [ 864  120]]\n",
      "\n",
      "MAE: 0.2767\n",
      "MSE: 0.2767\n",
      "RMSE: 0.5261\n",
      "\n",
      "TPR = 0.122 \n",
      "TNR = 0.957\n"
     ]
    }
   ],
   "source": [
    "print(\"\\n######## PCA-AdaBoost\")\n",
    "ada_main(rfc, X_train_pca, y_train, X_test_pca, y_test)"
   ]
  },
  {
   "cell_type": "code",
   "execution_count": 28,
   "id": "8cded6ca",
   "metadata": {},
   "outputs": [
    {
     "name": "stdout",
     "output_type": "stream",
     "text": [
      "\n",
      "############################## DecisionTree ##############################\n",
      "\n",
      "              precision    recall  f1-score   support\n",
      "\n",
      "           0       0.74      0.77      0.76      2532\n",
      "           1       0.35      0.32      0.33       984\n",
      "\n",
      "    accuracy                           0.64      3516\n",
      "   macro avg       0.55      0.54      0.54      3516\n",
      "weighted avg       0.63      0.64      0.64      3516\n",
      "\n",
      "####### Confusion Matrix\n",
      " [[1946  586]\n",
      " [ 670  314]]\n",
      "\n",
      "MAE: 0.3572\n",
      "MSE: 0.3572\n",
      "RMSE: 0.5977\n",
      "\n",
      "Standard Deviation: 2.34 %\n",
      "\n",
      "TPR = 0.319 \n",
      "TNR = 0.769 \n",
      "Accuracy = 64.28%\n",
      "\n",
      "Average Accuracy using 10-fold Cross validation = 64.76%\n",
      "\n",
      "Accuracy changed by -9.67pp\n",
      "Mean Accuracy changed by -9.4pp\n"
     ]
    }
   ],
   "source": [
    "dtree, accuracy, avg_accuracy = d_tree(X_train_pca, y_train, X_test_pca, y_test)\n",
    "print(f\"\\nAccuracy changed by {round((accuracy - dtree_accuracy)*100,3)}pp\")\n",
    "print(f\"Mean Accuracy changed by {round((avg_accuracy - dtree_avg_accuracy),1)}pp\")"
   ]
  },
  {
   "cell_type": "code",
   "execution_count": 29,
   "id": "3be3bf3d",
   "metadata": {},
   "outputs": [
    {
     "name": "stdout",
     "output_type": "stream",
     "text": [
      "\n",
      "######## PCA-AdaBoost\n",
      "\n",
      "Best combination for learning rate λ and N is [0.5, 1.0] with Accuracy = 63.88%\n",
      "\n",
      "Accuracy changed by -16.24pp\n",
      "              precision    recall  f1-score   support\n",
      "\n",
      "           0       0.74      0.76      0.75      2532\n",
      "           1       0.34      0.32      0.33       984\n",
      "\n",
      "    accuracy                           0.64      3516\n",
      "   macro avg       0.54      0.54      0.54      3516\n",
      "weighted avg       0.63      0.64      0.63      3516\n",
      "\n",
      "####### Confusion Matrix\n",
      " [[1936  596]\n",
      " [ 674  310]]\n",
      "\n",
      "MAE: 0.3612\n",
      "MSE: 0.3612\n",
      "RMSE: 0.601\n",
      "\n",
      "TPR = 0.315 \n",
      "TNR = 0.765\n"
     ]
    }
   ],
   "source": [
    "print(\"\\n######## PCA-AdaBoost\")\n",
    "ada_main(dtree, X_train_pca, y_train, X_test_pca, y_test)"
   ]
  },
  {
   "cell_type": "code",
   "execution_count": 30,
   "id": "a4db125a",
   "metadata": {},
   "outputs": [
    {
     "data": {
      "image/png": "[encoded data removed]",
      "text/plain": [
       "<Figure size 792x504 with 1 Axes>"
      ]
     },
     "metadata": {
      "needs_background": "light"
     },
     "output_type": "display_data"
    }
   ],
   "source": [
    "plt.figure(figsize=(11,7))\n",
    "plt.scatter(X_test_pca[:,0],X_test_pca[:,1],c = (y_test))\n",
    "plt.xlabel('First principal component')\n",
    "plt.ylabel('Second Principal Component')\n",
    "plt.show()"
   ]
  },
  {
   "cell_type": "markdown",
   "id": "9f40a9b1",
   "metadata": {},
   "source": [
    "This heatmap represent the correlation between the various feature and the principal component itself."
   ]
  },
  {
   "cell_type": "code",
   "execution_count": 31,
   "id": "431a4a76",
   "metadata": {},
   "outputs": [
    {
     "data": {
      "text/plain": [
       "<Figure size 792x504 with 0 Axes>"
      ]
     },
     "metadata": {},
     "output_type": "display_data"
    },
    {
     "data": {
      "image/png": "[encoded data removed]",
      "text/plain": [
       "<Figure size 864x432 with 2 Axes>"
      ]
     },
     "metadata": {
      "needs_background": "light"
     },
     "output_type": "display_data"
    }
   ],
   "source": [
    "df_comp = pd.DataFrame(pca.components_,columns=X_test.columns)\n",
    "\n",
    "plt.figure(figsize=(11,7))\n",
    "plt.figure(figsize=(12,6))\n",
    "sns.heatmap(df_comp)\n",
    "plt.show()"
   ]
  },
  {
   "cell_type": "code",
   "execution_count": 32,
   "id": "b35fdda1",
   "metadata": {},
   "outputs": [
    {
     "name": "stdout",
     "output_type": "stream",
     "text": [
      "\n",
      "############################## LinearDiscriminantAnalysis ##############################\n",
      "\n"
     ]
    }
   ],
   "source": [
    "############################## LinearDiscriminantAnalysis ##############################\n",
    "print(\"\\n############################## LinearDiscriminantAnalysis ##############################\\n\")\n",
    "\n",
    "from sklearn.discriminant_analysis import LinearDiscriminantAnalysis as LDA\n",
    "lda = LDA(n_components = 1)\n",
    "X_train_lda = lda.fit_transform(X_train_scaled, y_train)\n",
    "X_test_lda = lda.transform(X_test_scaled)"
   ]
  },
  {
   "cell_type": "code",
   "execution_count": 33,
   "id": "1389873b",
   "metadata": {},
   "outputs": [
    {
     "name": "stdout",
     "output_type": "stream",
     "text": [
      "\n",
      "############################## RandomForest ##############################\n",
      "              precision    recall  f1-score   support\n",
      "\n",
      "           0       0.81      0.92      0.86      2532\n",
      "           1       0.68      0.44      0.54       984\n",
      "\n",
      "    accuracy                           0.79      3516\n",
      "   macro avg       0.75      0.68      0.70      3516\n",
      "weighted avg       0.77      0.79      0.77      3516\n",
      "\n",
      "####### Confusion Matrix\n",
      " [[2330  202]\n",
      " [ 548  436]]\n",
      "\n",
      "MAE: 0.2133\n",
      "MSE: 0.2133\n",
      "RMSE: 0.4619\n",
      "\n",
      "Standard Deviation: 1.32 %\n",
      "\n",
      "TPR = 0.443 \n",
      "TNR = 0.92 \n",
      "Accuracy = 78.67%\n",
      "\n",
      "Average Accuracy using 10-fold Cross validation = 80.63%\n",
      "\n",
      "Accuracy changed by -1.45pp\n",
      "Mean Accuracy changed by 0.2pp\n"
     ]
    }
   ],
   "source": [
    "rfc, accuracy, avg_accuracy = rand_forest(X_train_lda, y_train, X_test_lda, y_test)\n",
    "print(f\"\\nAccuracy changed by {round((accuracy - rf_accuracy)*100,3)}pp\")\n",
    "print(f\"Mean Accuracy changed by {round((avg_accuracy - rf_avg_accuracy),1)}pp\")"
   ]
  },
  {
   "cell_type": "code",
   "execution_count": 34,
   "id": "b6fb567f",
   "metadata": {},
   "outputs": [
    {
     "name": "stdout",
     "output_type": "stream",
     "text": [
      "\n",
      "######## LDA-AdaBoost\n",
      "\n",
      "Best combination for learning rate λ and N is [0.5, 3.0] with Accuracy = 79.47%\n",
      "\n",
      "Accuracy changed by -0.65pp\n",
      "              precision    recall  f1-score   support\n",
      "\n",
      "           0       0.82      0.92      0.87      2532\n",
      "           1       0.70      0.47      0.56       984\n",
      "\n",
      "    accuracy                           0.79      3516\n",
      "   macro avg       0.76      0.69      0.71      3516\n",
      "weighted avg       0.78      0.79      0.78      3516\n",
      "\n",
      "####### Confusion Matrix\n",
      " [[2333  199]\n",
      " [ 525  459]]\n",
      "\n",
      "MAE: 0.2059\n",
      "MSE: 0.2059\n",
      "RMSE: 0.4538\n",
      "\n",
      "TPR = 0.466 \n",
      "TNR = 0.921\n"
     ]
    }
   ],
   "source": [
    "print(\"\\n######## LDA-AdaBoost\")\n",
    "ada_main(rfc, X_train_lda, y_train, X_test_lda, y_test)"
   ]
  },
  {
   "cell_type": "code",
   "execution_count": 35,
   "id": "a6d53764",
   "metadata": {},
   "outputs": [
    {
     "name": "stdout",
     "output_type": "stream",
     "text": [
      "\n",
      "############################## DecisionTree ##############################\n",
      "\n",
      "              precision    recall  f1-score   support\n",
      "\n",
      "           0       0.80      0.84      0.82      2532\n",
      "           1       0.54      0.47      0.50       984\n",
      "\n",
      "    accuracy                           0.74      3516\n",
      "   macro avg       0.67      0.66      0.66      3516\n",
      "weighted avg       0.73      0.74      0.73      3516\n",
      "\n",
      "####### Confusion Matrix\n",
      " [[2131  401]\n",
      " [ 517  467]]\n",
      "\n",
      "MAE: 0.2611\n",
      "MSE: 0.2611\n",
      "RMSE: 0.511\n",
      "\n",
      "Standard Deviation: 2.06 %\n",
      "\n",
      "TPR = 0.475 \n",
      "TNR = 0.842 \n",
      "Accuracy = 73.89%\n",
      "\n",
      "Average Accuracy using 10-fold Cross validation = 74.26%\n",
      "\n",
      "Accuracy changed by -0.06pp\n",
      "Mean Accuracy changed by 0.1pp\n"
     ]
    }
   ],
   "source": [
    "dtree, accuracy, avg_accuracy = d_tree(X_train_lda, y_train, X_test_lda, y_test)\n",
    "print(f\"\\nAccuracy changed by {round((accuracy - dtree_accuracy)*100,3)}pp\")\n",
    "print(f\"Mean Accuracy changed by {round((avg_accuracy - dtree_avg_accuracy),1)}pp\")"
   ]
  },
  {
   "cell_type": "code",
   "execution_count": 36,
   "id": "7977b70c",
   "metadata": {},
   "outputs": [
    {
     "name": "stdout",
     "output_type": "stream",
     "text": [
      "\n",
      "######## LDA-AdaBoost\n",
      "\n",
      "Best combination for learning rate λ and N is [0.5, 1.0] with Accuracy = 73.89%\n",
      "\n",
      "Accuracy changed by -6.23pp\n",
      "              precision    recall  f1-score   support\n",
      "\n",
      "           0       0.80      0.84      0.82      2532\n",
      "           1       0.54      0.47      0.50       984\n",
      "\n",
      "    accuracy                           0.74      3516\n",
      "   macro avg       0.67      0.66      0.66      3516\n",
      "weighted avg       0.73      0.74      0.73      3516\n",
      "\n",
      "####### Confusion Matrix\n",
      " [[2131  401]\n",
      " [ 517  467]]\n",
      "\n",
      "MAE: 0.2611\n",
      "MSE: 0.2611\n",
      "RMSE: 0.511\n",
      "\n",
      "TPR = 0.475 \n",
      "TNR = 0.842\n"
     ]
    }
   ],
   "source": [
    "print(\"\\n######## LDA-AdaBoost\")\n",
    "ada_main(dtree, X_train_lda, y_train, X_test_lda, y_test)"
   ]
  },
  {
   "cell_type": "code",
   "execution_count": 37,
   "id": "cf2489fb",
   "metadata": {},
   "outputs": [
    {
     "name": "stdout",
     "output_type": "stream",
     "text": [
      "\n",
      "############################## QuadraticDiscriminantAnalysis ##############################\n",
      "\n",
      "              precision    recall  f1-score   support\n",
      "\n",
      "           0       0.89      0.78      0.83      2532\n",
      "           1       0.57      0.75      0.64       984\n",
      "\n",
      "    accuracy                           0.77      3516\n",
      "   macro avg       0.73      0.76      0.74      3516\n",
      "weighted avg       0.80      0.77      0.78      3516\n",
      "\n",
      "####### Confusion Matrix\n",
      " [[1967  565]\n",
      " [ 247  737]]\n",
      "\n",
      "MAE: 0.2309\n",
      "MSE: 0.2309\n",
      "RMSE: 0.4806\n",
      "\n",
      "TPR = 0.749 \n",
      "TNR = 0.777 \n",
      "Accuracy = 76.91%\n"
     ]
    }
   ],
   "source": [
    "############################## QuadraticDiscriminantAnalysis ##############################\n",
    "print(\"\\n############################## QuadraticDiscriminantAnalysis ##############################\\n\")\n",
    "\n",
    "from sklearn.discriminant_analysis import QuadraticDiscriminantAnalysis as QDA\n",
    "\n",
    "qda_classifier = QDA()\n",
    "X_train_qda = qda_classifier.fit(X_train_scaled, y_train)\n",
    "qda_predicted = qda_classifier.predict(X_test_scaled)\n",
    "\n",
    "TPR, TNR, accuracy = metrics(y_test, qda_predicted)\n",
    "print(f\"\\nTPR = {TPR} \\nTNR = {TNR} \\nAccuracy = {round(accuracy*100,2)}%\")\n"
   ]
  },
  {
   "cell_type": "markdown",
   "id": "9cdd408b",
   "metadata": {},
   "source": [
    "# Feature Selection\n"
   ]
  },
  {
   "cell_type": "code",
   "execution_count": 38,
   "id": "0e4f3c1f",
   "metadata": {},
   "outputs": [
    {
     "name": "stdout",
     "output_type": "stream",
     "text": [
      "\n",
      "############################## RecursiveFeatureElimination ##############################\n",
      "\n",
      "Num Features: 6\n",
      "Selected Features: [False False False False False  True False False False  True  True False\n",
      " False  True False False False False False False  True  True]\n",
      "Feature Ranking: [16 14 13  8 11  1 12  4  6  1  1  5  7  1  2 10  3  9 15 17  1  1]\n"
     ]
    }
   ],
   "source": [
    "############################## RecursiveFeatureElimination ##############################\n",
    "print(\"\\n############################## RecursiveFeatureElimination ##############################\\n\")\n",
    "\n",
    "from sklearn.linear_model import LogisticRegression\n",
    "from sklearn.feature_selection import RFE\n",
    "logmodel = LogisticRegression(solver='lbfgs')\n",
    "rfe = RFE(logmodel, 6)\n",
    "fit = rfe.fit(X_train, y_train)\n",
    "print(\"Num Features: %d\" % fit.n_features_)\n",
    "print(\"Selected Features: %s\" % fit.support_)\n",
    "print(\"Feature Ranking: %s\" % fit.ranking_)\n",
    "\n",
    "col = []\n",
    "for i in range(0, len(fit.ranking_)):\n",
    "    if fit.ranking_[i] != 1:\n",
    "        a = list(X.columns)[i]\n",
    "        col.append(a)\n",
    "        \n",
    "X_train_rfe = X_train.drop(col, axis= 1)\n",
    "X_test_rfe = X_test.drop(col, axis= 1)"
   ]
  },
  {
   "cell_type": "code",
   "execution_count": 39,
   "id": "081bd1f1",
   "metadata": {},
   "outputs": [
    {
     "name": "stdout",
     "output_type": "stream",
     "text": [
      "\n",
      "############################## RandomForest ##############################\n",
      "              precision    recall  f1-score   support\n",
      "\n",
      "           0       0.85      0.85      0.85      2532\n",
      "           1       0.61      0.60      0.61       984\n",
      "\n",
      "    accuracy                           0.78      3516\n",
      "   macro avg       0.73      0.73      0.73      3516\n",
      "weighted avg       0.78      0.78      0.78      3516\n",
      "\n",
      "####### Confusion Matrix\n",
      " [[2153  379]\n",
      " [ 392  592]]\n",
      "\n",
      "MAE: 0.2193\n",
      "MSE: 0.2193\n",
      "RMSE: 0.4683\n",
      "\n",
      "Standard Deviation: 1.08 %\n",
      "\n",
      "TPR = 0.602 \n",
      "TNR = 0.85 \n",
      "Accuracy = 78.07%\n",
      "\n",
      "Average Accuracy using 10-fold Cross validation = 78.56%\n",
      "\n",
      "Accuracy changed by -2.05pp\n",
      "Mean Accuracy changed by -1.8pp\n"
     ]
    }
   ],
   "source": [
    "rfc, accuracy, avg_accuracy = rand_forest(X_train_rfe, y_train, X_test_rfe, y_test)\n",
    "print(f\"\\nAccuracy changed by {round((accuracy - rf_accuracy)*100,3)}pp\")\n",
    "print(f\"Mean Accuracy changed by {round((avg_accuracy - rf_avg_accuracy),1)}pp\")"
   ]
  },
  {
   "cell_type": "code",
   "execution_count": 40,
   "id": "44437f6e",
   "metadata": {},
   "outputs": [
    {
     "name": "stdout",
     "output_type": "stream",
     "text": [
      "\n",
      "######## RFE-AdaBoost\n",
      "\n",
      "Best combination for learning rate λ and N is [0.5, 1.0] with Accuracy = 78.07%\n",
      "\n",
      "Accuracy changed by -2.05pp\n",
      "              precision    recall  f1-score   support\n",
      "\n",
      "           0       0.85      0.85      0.85      2532\n",
      "           1       0.61      0.60      0.61       984\n",
      "\n",
      "    accuracy                           0.78      3516\n",
      "   macro avg       0.73      0.73      0.73      3516\n",
      "weighted avg       0.78      0.78      0.78      3516\n",
      "\n",
      "####### Confusion Matrix\n",
      " [[2153  379]\n",
      " [ 392  592]]\n",
      "\n",
      "MAE: 0.2193\n",
      "MSE: 0.2193\n",
      "RMSE: 0.4683\n",
      "\n",
      "TPR = 0.602 \n",
      "TNR = 0.85\n"
     ]
    }
   ],
   "source": [
    "print(\"\\n######## RFE-AdaBoost\")\n",
    "ada_main(rfc, X_train_rfe, y_train, X_test_rfe, y_test)"
   ]
  },
  {
   "cell_type": "code",
   "execution_count": 41,
   "id": "7c19232d",
   "metadata": {},
   "outputs": [
    {
     "name": "stdout",
     "output_type": "stream",
     "text": [
      "\n",
      "############################## DecisionTree ##############################\n",
      "\n",
      "              precision    recall  f1-score   support\n",
      "\n",
      "           0       0.85      0.85      0.85      2532\n",
      "           1       0.61      0.60      0.61       984\n",
      "\n",
      "    accuracy                           0.78      3516\n",
      "   macro avg       0.73      0.73      0.73      3516\n",
      "weighted avg       0.78      0.78      0.78      3516\n",
      "\n",
      "####### Confusion Matrix\n",
      " [[2153  379]\n",
      " [ 392  592]]\n",
      "\n",
      "MAE: 0.2193\n",
      "MSE: 0.2193\n",
      "RMSE: 0.4683\n",
      "\n",
      "Standard Deviation: 1.08 %\n",
      "\n",
      "TPR = 0.602 \n",
      "TNR = 0.85 \n",
      "Accuracy = 78.07%\n",
      "\n",
      "Average Accuracy using 10-fold Cross validation = 78.56%\n",
      "\n",
      "Accuracy changed by 4.12pp\n",
      "Mean Accuracy changed by 4.4pp\n"
     ]
    }
   ],
   "source": [
    "dtree, accuracy, avg_accuracy = d_tree(X_train_rfe, y_train, X_test_rfe, y_test)\n",
    "print(f\"\\nAccuracy changed by {round((accuracy - dtree_accuracy)*100,3)}pp\")\n",
    "print(f\"Mean Accuracy changed by {round((avg_accuracy - dtree_avg_accuracy),1)}pp\")"
   ]
  },
  {
   "cell_type": "code",
   "execution_count": 42,
   "id": "f06af366",
   "metadata": {},
   "outputs": [
    {
     "name": "stdout",
     "output_type": "stream",
     "text": [
      "\n",
      "######## RFE-AdaBoost\n",
      "\n",
      "Best combination for learning rate λ and N is [0.5, 1.0] with Accuracy = 78.07%\n",
      "\n",
      "Accuracy changed by -2.05pp\n",
      "              precision    recall  f1-score   support\n",
      "\n",
      "           0       0.85      0.85      0.85      2532\n",
      "           1       0.61      0.60      0.61       984\n",
      "\n",
      "    accuracy                           0.78      3516\n",
      "   macro avg       0.73      0.73      0.73      3516\n",
      "weighted avg       0.78      0.78      0.78      3516\n",
      "\n",
      "####### Confusion Matrix\n",
      " [[2153  379]\n",
      " [ 392  592]]\n",
      "\n",
      "MAE: 0.2193\n",
      "MSE: 0.2193\n",
      "RMSE: 0.4683\n",
      "\n",
      "TPR = 0.602 \n",
      "TNR = 0.85\n"
     ]
    }
   ],
   "source": [
    "print(\"\\n######## RFE-AdaBoost\")\n",
    "ada_main(dtree, X_train_rfe, y_train, X_test_rfe, y_test)"
   ]
  },
  {
   "cell_type": "code",
   "execution_count": 43,
   "id": "45da612e",
   "metadata": {},
   "outputs": [
    {
     "name": "stdout",
     "output_type": "stream",
     "text": [
      "\n",
      "############################## ANOVA Feature Selection ##############################\n",
      "\n"
     ]
    }
   ],
   "source": [
    "############################## ANOVA Feature Selection ##############################\n",
    "print(\"\\n############################## ANOVA Feature Selection ##############################\\n\")\n",
    "\n",
    "from sklearn.feature_selection import SelectKBest\n",
    "from sklearn.feature_selection import f_classif\n",
    "\n",
    "afs = SelectKBest(score_func=f_classif, k=4)\n",
    "\n",
    "X_train_k = afs.fit_transform(X_train, y_train)\n",
    "X_test_k = afs.transform(X_test)"
   ]
  },
  {
   "cell_type": "code",
   "execution_count": 44,
   "id": "493bbe5d",
   "metadata": {},
   "outputs": [
    {
     "name": "stdout",
     "output_type": "stream",
     "text": [
      "\n",
      "############################## RandomForest ##############################\n",
      "              precision    recall  f1-score   support\n",
      "\n",
      "           0       0.80      0.93      0.86      2532\n",
      "           1       0.67      0.39      0.49       984\n",
      "\n",
      "    accuracy                           0.78      3516\n",
      "   macro avg       0.73      0.66      0.67      3516\n",
      "weighted avg       0.76      0.78      0.75      3516\n",
      "\n",
      "####### Confusion Matrix\n",
      " [[2344  188]\n",
      " [ 602  382]]\n",
      "\n",
      "MAE: 0.2247\n",
      "MSE: 0.2247\n",
      "RMSE: 0.474\n",
      "\n",
      "Standard Deviation: 1.60 %\n",
      "\n",
      "TPR = 0.388 \n",
      "TNR = 0.926 \n",
      "Accuracy = 77.53%\n",
      "\n",
      "Average Accuracy using 10-fold Cross validation = 77.02%\n",
      "\n",
      "Accuracy changed by -2.59pp\n",
      "Mean Accuracy changed by -3.4pp\n"
     ]
    }
   ],
   "source": [
    "rfc, accuracy, avg_accuracy = rand_forest(X_train_k, y_train, X_test_k, y_test)\n",
    "print(f\"\\nAccuracy changed by {round((accuracy - rf_accuracy)*100,3)}pp\")\n",
    "print(f\"Mean Accuracy changed by {round((avg_accuracy - rf_avg_accuracy),1)}pp\")"
   ]
  },
  {
   "cell_type": "code",
   "execution_count": 45,
   "id": "80d5eee2",
   "metadata": {},
   "outputs": [
    {
     "name": "stdout",
     "output_type": "stream",
     "text": [
      "\n",
      "######## ANOVA-AdaBoost\n",
      "\n",
      "Best combination for learning rate λ and N is [0.5, 8.0] with Accuracy = 77.25%\n",
      "\n",
      "Accuracy changed by -2.87pp\n",
      "              precision    recall  f1-score   support\n",
      "\n",
      "           0       0.79      0.92      0.85      2532\n",
      "           1       0.63      0.37      0.47       984\n",
      "\n",
      "    accuracy                           0.76      3516\n",
      "   macro avg       0.71      0.64      0.66      3516\n",
      "weighted avg       0.75      0.76      0.74      3516\n",
      "\n",
      "####### Confusion Matrix\n",
      " [[2318  214]\n",
      " [ 617  367]]\n",
      "\n",
      "MAE: 0.2363\n",
      "MSE: 0.2363\n",
      "RMSE: 0.4862\n",
      "\n",
      "TPR = 0.373 \n",
      "TNR = 0.915\n"
     ]
    }
   ],
   "source": [
    "print(\"\\n######## ANOVA-AdaBoost\")\n",
    "ada_main(rfc, X_train_k, y_train, X_test_k, y_test)"
   ]
  },
  {
   "cell_type": "code",
   "execution_count": 46,
   "id": "53485af9",
   "metadata": {},
   "outputs": [
    {
     "name": "stdout",
     "output_type": "stream",
     "text": [
      "\n",
      "############################## DecisionTree ##############################\n",
      "\n",
      "              precision    recall  f1-score   support\n",
      "\n",
      "           0       0.79      0.93      0.85      2532\n",
      "           1       0.67      0.37      0.48       984\n",
      "\n",
      "    accuracy                           0.77      3516\n",
      "   macro avg       0.73      0.65      0.67      3516\n",
      "weighted avg       0.76      0.77      0.75      3516\n",
      "\n",
      "####### Confusion Matrix\n",
      " [[2350  182]\n",
      " [ 619  365]]\n",
      "\n",
      "MAE: 0.2278\n",
      "MSE: 0.2278\n",
      "RMSE: 0.4773\n",
      "\n",
      "Standard Deviation: 1.36 %\n",
      "\n",
      "TPR = 0.371 \n",
      "TNR = 0.928 \n",
      "Accuracy = 77.22%\n",
      "\n",
      "Average Accuracy using 10-fold Cross validation = 76.56%\n",
      "\n",
      "Accuracy changed by 3.27pp\n",
      "Mean Accuracy changed by 2.4pp\n"
     ]
    }
   ],
   "source": [
    "dtree, accuracy, avg_accuracy = d_tree(X_train_k, y_train, X_test_k, y_test)\n",
    "print(f\"\\nAccuracy changed by {round((accuracy - dtree_accuracy)*100,3)}pp\")\n",
    "print(f\"Mean Accuracy changed by {round((avg_accuracy - dtree_avg_accuracy),1)}pp\")"
   ]
  },
  {
   "cell_type": "code",
   "execution_count": 47,
   "id": "44bcd0d8",
   "metadata": {},
   "outputs": [
    {
     "name": "stdout",
     "output_type": "stream",
     "text": [
      "\n",
      "######## ANOVA-AdaBoost\n",
      "\n",
      "Best combination for learning rate λ and N is [0.5, 1.0] with Accuracy = 77.22%\n",
      "\n",
      "Accuracy changed by -2.9pp\n",
      "              precision    recall  f1-score   support\n",
      "\n",
      "           0       0.79      0.93      0.85      2532\n",
      "           1       0.67      0.37      0.48       984\n",
      "\n",
      "    accuracy                           0.77      3516\n",
      "   macro avg       0.73      0.65      0.67      3516\n",
      "weighted avg       0.76      0.77      0.75      3516\n",
      "\n",
      "####### Confusion Matrix\n",
      " [[2350  182]\n",
      " [ 619  365]]\n",
      "\n",
      "MAE: 0.2278\n",
      "MSE: 0.2278\n",
      "RMSE: 0.4773\n",
      "\n",
      "TPR = 0.371 \n",
      "TNR = 0.928\n"
     ]
    }
   ],
   "source": [
    "print(\"\\n######## ANOVA-AdaBoost\")\n",
    "ada_main(dtree, X_train_k, y_train, X_test_k, y_test)"
   ]
  },
  {
   "cell_type": "code",
   "execution_count": 48,
   "id": "7805a00c",
   "metadata": {},
   "outputs": [
    {
     "name": "stdout",
     "output_type": "stream",
     "text": [
      "\n",
      "############################## Estimate Mutual Information ##############################\n",
      "\n"
     ]
    }
   ],
   "source": [
    "############################## Estimate Mutual Information ##############################\n",
    "print(\"\\n############################## Estimate Mutual Information ##############################\\n\")\n",
    "\n",
    "from sklearn.feature_selection import mutual_info_classif\n",
    "\n",
    "micf = mutual_info_classif(X, y, discrete_features='auto', n_neighbors=3, copy=True, random_state=64)\n",
    "\n",
    "col = []\n",
    "for i in range(0, len(micf)):\n",
    "    if micf[i] < 0.009 :\n",
    "        a = list(X.columns)[i]\n",
    "        col.append(a)\n",
    "        \n",
    "X_train_emi = X_train.drop(col, axis= 1)\n",
    "X_test_emi = X_test.drop(col, axis= 1)"
   ]
  },
  {
   "cell_type": "code",
   "execution_count": 49,
   "id": "9a718fde",
   "metadata": {},
   "outputs": [
    {
     "name": "stdout",
     "output_type": "stream",
     "text": [
      "\n",
      "############################## RandomForest ##############################\n",
      "              precision    recall  f1-score   support\n",
      "\n",
      "           0       0.81      0.93      0.87      2532\n",
      "           1       0.71      0.46      0.56       984\n",
      "\n",
      "    accuracy                           0.80      3516\n",
      "   macro avg       0.76      0.69      0.71      3516\n",
      "weighted avg       0.79      0.80      0.78      3516\n",
      "\n",
      "####### Confusion Matrix\n",
      " [[2352  180]\n",
      " [ 535  449]]\n",
      "\n",
      "MAE: 0.2034\n",
      "MSE: 0.2034\n",
      "RMSE: 0.451\n",
      "\n",
      "Standard Deviation: 1.19 %\n",
      "\n",
      "TPR = 0.456 \n",
      "TNR = 0.929 \n",
      "Accuracy = 79.66%\n",
      "\n",
      "Average Accuracy using 10-fold Cross validation = 80.46%\n",
      "\n",
      "Accuracy changed by -0.46pp\n",
      "Mean Accuracy changed by 0.1pp\n"
     ]
    }
   ],
   "source": [
    "rfc, accuracy, avg_accuracy = rand_forest(X_train_emi, y_train, X_test_emi, y_test)\n",
    "print(f\"\\nAccuracy changed by {round((accuracy - rf_accuracy)*100,3)}pp\")\n",
    "print(f\"Mean Accuracy changed by {round((avg_accuracy - rf_avg_accuracy),1)}pp\")"
   ]
  },
  {
   "cell_type": "code",
   "execution_count": 50,
   "id": "22706655",
   "metadata": {},
   "outputs": [
    {
     "name": "stdout",
     "output_type": "stream",
     "text": [
      "\n",
      "######## EMI-AdaBoost\n",
      "\n",
      "Best combination for learning rate λ and N is [0.5, 4.0] with Accuracy = 80.06%\n",
      "\n",
      "Accuracy changed by -0.06pp\n",
      "              precision    recall  f1-score   support\n",
      "\n",
      "           0       0.82      0.92      0.87      2532\n",
      "           1       0.71      0.47      0.57       984\n",
      "\n",
      "    accuracy                           0.80      3516\n",
      "   macro avg       0.76      0.70      0.72      3516\n",
      "weighted avg       0.79      0.80      0.78      3516\n",
      "\n",
      "####### Confusion Matrix\n",
      " [[2341  191]\n",
      " [ 517  467]]\n",
      "\n",
      "MAE: 0.2014\n",
      "MSE: 0.2014\n",
      "RMSE: 0.4487\n",
      "\n",
      "TPR = 0.475 \n",
      "TNR = 0.925\n"
     ]
    }
   ],
   "source": [
    "print(\"\\n######## EMI-AdaBoost\")\n",
    "ada_main(rfc, X_train_emi, y_train, X_test_emi, y_test)"
   ]
  },
  {
   "cell_type": "code",
   "execution_count": 51,
   "id": "1d29d04a",
   "metadata": {},
   "outputs": [
    {
     "name": "stdout",
     "output_type": "stream",
     "text": [
      "\n",
      "######## EMI-AdaBoost\n",
      "\n",
      "Best combination for learning rate λ and N is [0.5, 1.0] with Accuracy = 73.35%\n",
      "\n",
      "Accuracy changed by -6.77pp\n",
      "              precision    recall  f1-score   support\n",
      "\n",
      "           0       0.81      0.82      0.82      2532\n",
      "           1       0.52      0.51      0.52       984\n",
      "\n",
      "    accuracy                           0.73      3516\n",
      "   macro avg       0.67      0.66      0.67      3516\n",
      "weighted avg       0.73      0.73      0.73      3516\n",
      "\n",
      "####### Confusion Matrix\n",
      " [[2078  454]\n",
      " [ 483  501]]\n",
      "\n",
      "MAE: 0.2665\n",
      "MSE: 0.2665\n",
      "RMSE: 0.5162\n",
      "\n",
      "TPR = 0.509 \n",
      "TNR = 0.821\n"
     ]
    }
   ],
   "source": [
    "print(\"\\n######## EMI-AdaBoost\")\n",
    "ada_main(dtree, X_train_emi, y_train, X_test_emi, y_test)"
   ]
  },
  {
   "cell_type": "code",
   "execution_count": 52,
   "id": "f6d2bc72",
   "metadata": {},
   "outputs": [
    {
     "name": "stdout",
     "output_type": "stream",
     "text": [
      "\n",
      "############################## DecisionTree ##############################\n",
      "\n",
      "              precision    recall  f1-score   support\n",
      "\n",
      "           0       0.81      0.82      0.81      2532\n",
      "           1       0.52      0.51      0.52       984\n",
      "\n",
      "    accuracy                           0.73      3516\n",
      "   macro avg       0.67      0.67      0.67      3516\n",
      "weighted avg       0.73      0.73      0.73      3516\n",
      "\n",
      "####### Confusion Matrix\n",
      " [[2070  462]\n",
      " [ 478  506]]\n",
      "\n",
      "MAE: 0.2673\n",
      "MSE: 0.2673\n",
      "RMSE: 0.5171\n",
      "\n",
      "Standard Deviation: 2.32 %\n",
      "\n",
      "TPR = 0.514 \n",
      "TNR = 0.818 \n",
      "Accuracy = 73.27%\n",
      "\n",
      "Average Accuracy using 10-fold Cross validation = 74.12%\n",
      "\n",
      "Accuracy changed by -0.68pp\n",
      "Mean Accuracy changed by -0.1pp\n"
     ]
    }
   ],
   "source": [
    "dtree, accuracy, avg_accuracy = d_tree(X_train_emi, y_train, X_test_emi, y_test)\n",
    "print(f\"\\nAccuracy changed by {round((accuracy - dtree_accuracy)*100,3)}pp\")\n",
    "print(f\"Mean Accuracy changed by {round((avg_accuracy - dtree_avg_accuracy),1)}pp\")"
   ]
  },
  {
   "cell_type": "code",
   "execution_count": 53,
   "id": "83809dc0",
   "metadata": {},
   "outputs": [
    {
     "name": "stdout",
     "output_type": "stream",
     "text": [
      "\n",
      "############################ Feature Importance with Extra Trees Classifier ############################\n",
      "\n",
      "[0.07423162 0.07542177 0.0754239  0.02504943 0.0296428  0.04516676\n",
      " 0.10774518 0.00900145 0.02591261 0.02512727 0.03233806 0.02741781\n",
      " 0.0230056  0.02620102 0.0201574  0.02026755 0.03058425 0.10547192\n",
      " 0.09694935 0.02857916 0.03297321 0.06333185]\n"
     ]
    }
   ],
   "source": [
    "############################## Feature Importance with Extra Trees Classifier ##############################\n",
    "print(\"\\n############################ Feature Importance with Extra Trees Classifier ############################\\n\")\n",
    "\n",
    "from sklearn.ensemble import ExtraTreesClassifier\n",
    "\n",
    "etc = ExtraTreesClassifier(n_estimators=10,random_state=64,criterion='entropy')\n",
    "etc.fit(X_train, y_train)\n",
    "print(etc.feature_importances_)\n",
    "\n",
    "col = []\n",
    "for i in range(0, len(etc.feature_importances_)):\n",
    "    if etc.feature_importances_[i] >= 0.075 :\n",
    "        a = list(X.columns)[i]\n",
    "        col.append(a)\n",
    "        \n",
    "X_train_etc = X_train.drop(col, axis= 1)\n",
    "X_test_etc = X_test.drop(col, axis= 1)"
   ]
  },
  {
   "cell_type": "code",
   "execution_count": 54,
   "id": "663a7097",
   "metadata": {},
   "outputs": [
    {
     "name": "stdout",
     "output_type": "stream",
     "text": [
      "\n",
      "############################## RandomForest ##############################\n",
      "              precision    recall  f1-score   support\n",
      "\n",
      "           0       0.81      0.90      0.86      2532\n",
      "           1       0.65      0.46      0.54       984\n",
      "\n",
      "    accuracy                           0.78      3516\n",
      "   macro avg       0.73      0.68      0.70      3516\n",
      "weighted avg       0.77      0.78      0.77      3516\n",
      "\n",
      "####### Confusion Matrix\n",
      " [[2288  244]\n",
      " [ 531  453]]\n",
      "\n",
      "MAE: 0.2204\n",
      "MSE: 0.2204\n",
      "RMSE: 0.4695\n",
      "\n",
      "Standard Deviation: 1.02 %\n",
      "\n",
      "TPR = 0.46 \n",
      "TNR = 0.904 \n",
      "Accuracy = 77.96%\n",
      "\n",
      "Average Accuracy using 10-fold Cross validation = 79.04%\n",
      "\n",
      "Accuracy changed by -2.16pp\n",
      "Mean Accuracy changed by -1.4pp\n"
     ]
    }
   ],
   "source": [
    "rfc, accuracy, avg_accuracy = rand_forest(X_train_etc, y_train, X_test_etc, y_test)\n",
    "print(f\"\\nAccuracy changed by {round((accuracy - rf_accuracy)*100,3)}pp\")\n",
    "print(f\"Mean Accuracy changed by {round((avg_accuracy - rf_avg_accuracy),1)}pp\")"
   ]
  },
  {
   "cell_type": "code",
   "execution_count": 55,
   "id": "796edf7c",
   "metadata": {},
   "outputs": [
    {
     "name": "stdout",
     "output_type": "stream",
     "text": [
      "\n",
      "######## ETC-AdaBoost\n",
      "\n",
      "Best combination for learning rate λ and N is [0.5, 7.0] with Accuracy = 77.96%\n",
      "\n",
      "Accuracy changed by -2.16pp\n",
      "              precision    recall  f1-score   support\n",
      "\n",
      "           0       0.81      0.89      0.85      2532\n",
      "           1       0.62      0.45      0.52       984\n",
      "\n",
      "    accuracy                           0.77      3516\n",
      "   macro avg       0.71      0.67      0.69      3516\n",
      "weighted avg       0.76      0.77      0.76      3516\n",
      "\n",
      "####### Confusion Matrix\n",
      " [[2260  272]\n",
      " [ 538  446]]\n",
      "\n",
      "MAE: 0.2304\n",
      "MSE: 0.2304\n",
      "RMSE: 0.48\n",
      "\n",
      "TPR = 0.453 \n",
      "TNR = 0.893\n"
     ]
    }
   ],
   "source": [
    "print(\"\\n######## ETC-AdaBoost\")\n",
    "ada_main(rfc, X_train_etc, y_train, X_test_etc, y_test)"
   ]
  },
  {
   "cell_type": "code",
   "execution_count": 56,
   "id": "fbf14d7e",
   "metadata": {},
   "outputs": [
    {
     "name": "stdout",
     "output_type": "stream",
     "text": [
      "\n",
      "######## ETC-AdaBoost\n",
      "\n",
      "Best combination for learning rate λ and N is [1.0, 15.0] with Accuracy = 72.92%\n",
      "\n",
      "Accuracy changed by -7.2pp\n",
      "              precision    recall  f1-score   support\n",
      "\n",
      "           0       0.80      0.83      0.82      2532\n",
      "           1       0.52      0.46      0.49       984\n",
      "\n",
      "    accuracy                           0.73      3516\n",
      "   macro avg       0.66      0.65      0.65      3516\n",
      "weighted avg       0.72      0.73      0.72      3516\n",
      "\n",
      "####### Confusion Matrix\n",
      " [[2113  419]\n",
      " [ 533  451]]\n",
      "\n",
      "MAE: 0.2708\n",
      "MSE: 0.2708\n",
      "RMSE: 0.5203\n",
      "\n",
      "TPR = 0.458 \n",
      "TNR = 0.835\n"
     ]
    }
   ],
   "source": [
    "print(\"\\n######## ETC-AdaBoost\")\n",
    "ada_main(dtree, X_train_etc, y_train, X_test_etc, y_test)"
   ]
  },
  {
   "cell_type": "code",
   "execution_count": 57,
   "id": "6a23c9e8",
   "metadata": {},
   "outputs": [
    {
     "name": "stdout",
     "output_type": "stream",
     "text": [
      "\n",
      "############################## DecisionTree ##############################\n",
      "\n",
      "              precision    recall  f1-score   support\n",
      "\n",
      "           0       0.79      0.82      0.80      2532\n",
      "           1       0.48      0.42      0.45       984\n",
      "\n",
      "    accuracy                           0.71      3516\n",
      "   macro avg       0.63      0.62      0.63      3516\n",
      "weighted avg       0.70      0.71      0.70      3516\n",
      "\n",
      "####### Confusion Matrix\n",
      " [[2077  455]\n",
      " [ 566  418]]\n",
      "\n",
      "MAE: 0.2904\n",
      "MSE: 0.2904\n",
      "RMSE: 0.5389\n",
      "\n",
      "Standard Deviation: 2.05 %\n",
      "\n",
      "TPR = 0.425 \n",
      "TNR = 0.82 \n",
      "Accuracy = 70.96%\n",
      "\n",
      "Average Accuracy using 10-fold Cross validation = 72.64%\n",
      "\n",
      "Accuracy changed by -2.99pp\n",
      "Mean Accuracy changed by -1.5pp\n"
     ]
    }
   ],
   "source": [
    "dtree, accuracy, avg_accuracy = d_tree(X_train_etc, y_train, X_test_etc, y_test)\n",
    "print(f\"\\nAccuracy changed by {round((accuracy - dtree_accuracy)*100,3)}pp\")\n",
    "print(f\"Mean Accuracy changed by {round((avg_accuracy - dtree_avg_accuracy),1)}pp\")"
   ]
  },
  {
   "cell_type": "code",
   "execution_count": 58,
   "id": "c9e5e4f7",
   "metadata": {},
   "outputs": [],
   "source": [
    "from xgboost import XGBClassifier\n",
    "def xg_boost(X_train, y_train, X_test, y_test):\n",
    "    \n",
    "    ############################## XGBClassifier ##############################\n",
    "    print(\"\\n############################## XGBClassifier ##############################\\n\")\n",
    "    \n",
    "    best_combo_xg = []\n",
    "    error_rate_xg = []\n",
    "    for i in range(1,51):\n",
    "            for j in np.linspace(0.1,1,10):\n",
    "                for q in range(1,11):\n",
    "                    xgb = XGBClassifier(n_estimators = i, learning_rate=j, max_depth=q, \n",
    "                                        eval_metric='mlogloss', tree_method=\"hist\")\n",
    "                    xgb.fit(X_train, y_train)\n",
    "                    xg_pred = xgb.predict(X_test)\n",
    "                    error_rate_xg.append(np.mean(xg_pred != y_test ))\n",
    "                    best_combo_xg.append([i,j,q])\n",
    "\n",
    "    best_combo_xg[error_rate_xg.index(min(error_rate_xg))]\n",
    "    n = best_combo_xg[error_rate_xg.index(min(error_rate_xg))][0]\n",
    "    lr = best_combo_xg[error_rate_xg.index(min(error_rate_xg))][1]\n",
    "    de = best_combo_xg[error_rate_xg.index(min(error_rate_xg))][2]\n",
    "    \n",
    "    xgb = XGBClassifier(n_estimators = n, learning_rate = lr, max_depth = de, \n",
    "                        eval_metric = 'mlogloss', tree_method = \"hist\", random_state = 64)\n",
    "    xgb.fit(X_train, y_train)\n",
    "    xg_pred = xgb.predict(X_test)\n",
    "    \n",
    "    TPR, TNR, accuracy = metrics(y_test, xg_pred)\n",
    "    print(f\"\\nTPR = {TPR} \\nTNR = {TNR} \\nAccuracy = {round(accuracy*100,2)}%\")"
   ]
  },
  {
   "cell_type": "code",
   "execution_count": 59,
   "id": "d15d5f49",
   "metadata": {},
   "outputs": [
    {
     "name": "stdout",
     "output_type": "stream",
     "text": [
      "\n",
      "############################## XGBClassifier ##############################\n",
      "\n",
      "              precision    recall  f1-score   support\n",
      "\n",
      "           0       0.83      0.92      0.87      2532\n",
      "           1       0.72      0.53      0.61       984\n",
      "\n",
      "    accuracy                           0.81      3516\n",
      "   macro avg       0.77      0.72      0.74      3516\n",
      "weighted avg       0.80      0.81      0.80      3516\n",
      "\n",
      "####### Confusion Matrix\n",
      " [[2325  207]\n",
      " [ 464  520]]\n",
      "\n",
      "MAE: 0.1908\n",
      "MSE: 0.1908\n",
      "RMSE: 0.4369\n",
      "\n",
      "TPR = 0.528 \n",
      "TNR = 0.918 \n",
      "Accuracy = 80.92%\n"
     ]
    }
   ],
   "source": [
    "xg_boost(X_train_scaled, y_train, X_test_scaled, y_test)"
   ]
  },
  {
   "cell_type": "code",
   "execution_count": null,
   "id": "5094ee37",
   "metadata": {},
   "outputs": [],
   "source": []
  }
 ],
 "metadata": {
  "kernelspec": {
   "display_name": "Python 3",
   "language": "python",
   "name": "python3"
  },
  "language_info": {
   "codemirror_mode": {
    "name": "ipython",
    "version": 3
   },
   "file_extension": ".py",
   "mimetype": "text/x-python",
   "name": "python",
   "nbconvert_exporter": "python",
   "pygments_lexer": "ipython3",
   "version": "3.8.2"
  }
 },
 "nbformat": 4,
 "nbformat_minor": 5
}
